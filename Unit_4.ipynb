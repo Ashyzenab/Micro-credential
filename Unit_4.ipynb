{
  "nbformat": 4,
  "nbformat_minor": 0,
  "metadata": {
    "colab": {
      "name": "Unit 4",
      "provenance": [],
      "collapsed_sections": [],
      "authorship_tag": "ABX9TyNfv8QXNUKnFPpMHm9mk83z",
      "include_colab_link": true
    },
    "kernelspec": {
      "name": "python3",
      "display_name": "Python 3"
    },
    "language_info": {
      "name": "python"
    }
  },
  "cells": [
    {
      "cell_type": "markdown",
      "metadata": {
        "id": "view-in-github",
        "colab_type": "text"
      },
      "source": [
        "<a href=\"https://colab.research.google.com/github/Ashyzenab/Micro-credential/blob/main/Unit_4.ipynb\" target=\"_parent\"><img src=\"https://colab.research.google.com/assets/colab-badge.svg\" alt=\"Open In Colab\"/></a>"
      ]
    },
    {
      "cell_type": "markdown",
      "source": [
        "Name: __Ashley Z Sangare__________\n",
        "Lesson 4 – Looping\n",
        "1. Create a list that holds 5 data variables.\n",
        "\n",
        "2. Print out those variables by using a for loop.\n",
        "\n",
        "3. Modify your for loop to add a message to your for loop.\n",
        "\n",
        "4. Use a for loop to print even numbers from 1-20.\n",
        "\n",
        "5. Sort your list in alphabetic order.\n",
        "\n",
        "6. Print out the first three elements of your list.\n",
        "\n",
        "7. Create a loop to print the last 2 elements of your list."
      ],
      "metadata": {
        "id": "y4wUbEk3qC81"
      }
    },
    {
      "cell_type": "code",
      "source": [
        "friends = ['Cire', 'witny', 'fadima', 'alison']\n",
        "print(friends)\n",
        "print(friends[0])\n",
        "print(friends[1])\n",
        "print(friends[2])\n",
        "print(friends[3])"
      ],
      "metadata": {
        "colab": {
          "base_uri": "https://localhost:8080/"
        },
        "id": "j9Xa8dRluPAZ",
        "outputId": "bc2e39f9-828f-48de-f150-0bb4f68c2aad"
      },
      "execution_count": null,
      "outputs": [
        {
          "output_type": "stream",
          "name": "stdout",
          "text": [
            "['Cire', 'witny', 'fadima', 'alison']\n",
            "Cire\n",
            "witny\n",
            "fadima\n",
            "alison\n"
          ]
        }
      ]
    },
    {
      "cell_type": "code",
      "source": [
        "friends = [' Cire, witny, fadima, alison']\n",
        "print(friends)"
      ],
      "metadata": {
        "colab": {
          "base_uri": "https://localhost:8080/"
        },
        "id": "XJlmMacEwzF3",
        "outputId": "4bbf6da7-50ee-4528-9656-f9759023daa0"
      },
      "execution_count": null,
      "outputs": [
        {
          "output_type": "stream",
          "name": "stdout",
          "text": [
            "[' Cire, witny, fadima, alison']\n"
          ]
        }
      ]
    },
    {
      "cell_type": "code",
      "source": [
        "friends = ['Cire', 'witny','fadima', 'alison']\n",
        "message = \"My best friend is \" + friends[0].upper() + \"!!!\"\n",
        "print(message)"
      ],
      "metadata": {
        "colab": {
          "base_uri": "https://localhost:8080/"
        },
        "id": "0RQYZKTww7X7",
        "outputId": "74d3366c-37f5-4449-eff7-988671813b9e"
      },
      "execution_count": null,
      "outputs": [
        {
          "output_type": "stream",
          "name": "stdout",
          "text": [
            "My best friend is CIRE!!!\n"
          ]
        }
      ]
    },
    {
      "cell_type": "code",
      "source": [
        "numbers = list(range(0,21, 2))\n",
        "print(numbers)"
      ],
      "metadata": {
        "colab": {
          "base_uri": "https://localhost:8080/"
        },
        "id": "hgx9VMylxk7U",
        "outputId": "237943a0-944d-4701-84ca-db05442e89f4"
      },
      "execution_count": null,
      "outputs": [
        {
          "output_type": "stream",
          "name": "stdout",
          "text": [
            "[0, 2, 4, 6, 8, 10, 12, 14, 16, 18, 20]\n"
          ]
        }
      ]
    },
    {
      "cell_type": "code",
      "source": [
        "places = ['venice', 'mykonos', 'london', 'malta', 'barcelona']\n",
        "print(places)"
      ],
      "metadata": {
        "colab": {
          "base_uri": "https://localhost:8080/"
        },
        "id": "ivaXzo76x3Z5",
        "outputId": "98b48507-593d-4028-8850-a7f5726a6539"
      },
      "execution_count": null,
      "outputs": [
        {
          "output_type": "stream",
          "name": "stdout",
          "text": [
            "['venice', 'mykonos', 'london', 'malta', 'barcelona']\n"
          ]
        }
      ]
    },
    {
      "cell_type": "code",
      "source": [
        "print(places)\n",
        "places.sort()\n",
        "print(places)"
      ],
      "metadata": {
        "colab": {
          "base_uri": "https://localhost:8080/"
        },
        "id": "UbWNVim-x-D-",
        "outputId": "d7eb7627-a9f4-4738-f437-a89bb5410e80"
      },
      "execution_count": null,
      "outputs": [
        {
          "output_type": "stream",
          "name": "stdout",
          "text": [
            "['venice', 'mykonos', 'london', 'malta', 'barcelona']\n",
            "['barcelona', 'london', 'malta', 'mykonos', 'venice']\n"
          ]
        }
      ]
    },
    {
      "cell_type": "code",
      "source": [
        "friends = ['Cire', 'witny', 'fadima', 'alison']\n",
        "print(friends)\n",
        "print(friends[0])\n",
        "print(friends[1])\n",
        "print(friends[2])"
      ],
      "metadata": {
        "colab": {
          "base_uri": "https://localhost:8080/"
        },
        "id": "vz34rsaFyq0_",
        "outputId": "e54499df-8c98-4bb4-ef74-fedcf4f6e552"
      },
      "execution_count": null,
      "outputs": [
        {
          "output_type": "stream",
          "name": "stdout",
          "text": [
            "['Cire', 'witny', 'fadima', 'alison']\n",
            "Cire\n",
            "witny\n",
            "fadima\n"
          ]
        }
      ]
    },
    {
      "cell_type": "code",
      "source": [
        "friends = ['Cire', 'witny', 'fadima', 'alison']\n",
        "print(friends)\n",
        "print(friends[2])\n",
        "print(friends[3])"
      ],
      "metadata": {
        "colab": {
          "base_uri": "https://localhost:8080/"
        },
        "id": "L_1WCRe4y2w9",
        "outputId": "43382442-005d-4d1b-c172-fd894f8337ef"
      },
      "execution_count": null,
      "outputs": [
        {
          "output_type": "stream",
          "name": "stdout",
          "text": [
            "['Cire', 'witny', 'fadima', 'alison']\n",
            "fadima\n",
            "alison\n"
          ]
        }
      ]
    }
  ]
}