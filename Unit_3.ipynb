{
  "nbformat": 4,
  "nbformat_minor": 0,
  "metadata": {
    "colab": {
      "name": "Unit 3",
      "provenance": [],
      "collapsed_sections": [],
      "authorship_tag": "ABX9TyPq+pPZib0LZAtHVh+ZTOiE",
      "include_colab_link": true
    },
    "kernelspec": {
      "name": "python3",
      "display_name": "Python 3"
    },
    "language_info": {
      "name": "python"
    }
  },
  "cells": [
    {
      "cell_type": "markdown",
      "metadata": {
        "id": "view-in-github",
        "colab_type": "text"
      },
      "source": [
        "<a href=\"https://colab.research.google.com/github/Ashyzenab/Micro-credential/blob/main/Unit_3.ipynb\" target=\"_parent\"><img src=\"https://colab.research.google.com/assets/colab-badge.svg\" alt=\"Open In Colab\"/></a>"
      ]
    },
    {
      "cell_type": "markdown",
      "source": [
        "Name: __Ashley Z Sangare________________________\n",
        "Lesson 3: Working with Lists\n",
        "\n",
        "1. Create a list of 5 of your favorite tv shows.\n",
        "\n",
        "2. Print the list in its original order.\n",
        "\n",
        "3. Use the sorted() function to print the list in alphabetical order. How is sorted() different from\n",
        "sort()?\n",
        "\n",
        "4. Print out your original list.\n",
        "\n",
        "5. Used sorted() to print your list in reverse alphabetical order.\n",
        "\n",
        "6. Create a message indicating how many favorite TV shows you have – use the len() function."
      ],
      "metadata": {
        "id": "7lNQexRDcs0K"
      }
    },
    {
      "cell_type": "code",
      "source": [
        "tvshows = ['all american', 'teen wolf', 'la patrona', 'vampire diaries', 'baby daddy']\n",
        "for show in tvshows:\n",
        "    print(show)"
      ],
      "metadata": {
        "colab": {
          "base_uri": "https://localhost:8080/"
        },
        "id": "EwvqtawwdGo9",
        "outputId": "107d3a01-a4e8-46f9-c083-e92cae01589c"
      },
      "execution_count": null,
      "outputs": [
        {
          "output_type": "stream",
          "name": "stdout",
          "text": [
            "all american\n",
            "teen wolf\n",
            "la patrona\n",
            "vampire diaries\n",
            "baby daddy\n"
          ]
        }
      ]
    },
    {
      "cell_type": "code",
      "source": [
        "tvshows = ['all american', 'teen wolf', 'la patrona', 'vampire diaries', 'baby daddy']\n",
        "x = sorted(tvshows)\n",
        "print (x)\n",
        "print (tvshows)"
      ],
      "metadata": {
        "colab": {
          "base_uri": "https://localhost:8080/"
        },
        "id": "8f9YGUPdgOqd",
        "outputId": "3b1300cf-36df-4011-e64b-2f65045bda82"
      },
      "execution_count": null,
      "outputs": [
        {
          "output_type": "stream",
          "name": "stdout",
          "text": [
            "['all american', 'baby daddy', 'la patrona', 'teen wolf', 'vampire diaries']\n",
            "['all american', 'teen wolf', 'la patrona', 'vampire diaries', 'baby daddy']\n"
          ]
        }
      ]
    },
    {
      "cell_type": "code",
      "source": [
        "a = (\"b\", \"g\", \"a\", \"d\", \"f\", \"c\", \"h\", \"e\")\n",
        "x = sorted(a)\n",
        "print (x)\n",
        "print (a)"
      ],
      "metadata": {
        "colab": {
          "base_uri": "https://localhost:8080/"
        },
        "id": "IX3uDPWT4kYz",
        "outputId": "fb8e1298-3058-452d-d9f6-8a34e9d92dec"
      },
      "execution_count": null,
      "outputs": [
        {
          "output_type": "stream",
          "name": "stdout",
          "text": [
            "['a', 'b', 'c', 'd', 'e', 'f', 'g', 'h']\n",
            "('b', 'g', 'a', 'd', 'f', 'c', 'h', 'e')\n"
          ]
        }
      ]
    },
    {
      "cell_type": "code",
      "source": [
        "favoriteshow = ['all american', 'teen wolf', 'la patrona', 'vampire diaries', 'baby daddy']\n",
        "for show in favoriteshow:\n",
        "   print(show.title() + \", is one of my favorite shows!!\")\n",
        " "
      ],
      "metadata": {
        "colab": {
          "base_uri": "https://localhost:8080/"
        },
        "id": "BI_6W7hl5btb",
        "outputId": "225d521c-4f98-405c-acd7-ffd37059617d"
      },
      "execution_count": null,
      "outputs": [
        {
          "output_type": "stream",
          "name": "stdout",
          "text": [
            "All American, is one of my favorite shows!!\n",
            "Teen Wolf, is one of my favorite shows!!\n",
            "La Patrona, is one of my favorite shows!!\n",
            "Vampire Diaries, is one of my favorite shows!!\n",
            "Baby Daddy, is one of my favorite shows!!\n"
          ]
        }
      ]
    }
  ]
}