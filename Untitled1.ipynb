{
  "nbformat": 4,
  "nbformat_minor": 0,
  "metadata": {
    "colab": {
      "name": "Untitled1.ipynb",
      "provenance": [],
      "collapsed_sections": [],
      "authorship_tag": "ABX9TyPFmuYUV/v1WuTngfhicAbo",
      "include_colab_link": true
    },
    "kernelspec": {
      "name": "python3",
      "display_name": "Python 3"
    },
    "language_info": {
      "name": "python"
    }
  },
  "cells": [
    {
      "cell_type": "markdown",
      "metadata": {
        "id": "view-in-github",
        "colab_type": "text"
      },
      "source": [
        "<a href=\"https://colab.research.google.com/github/Ashyzenab/Micro-credential/blob/main/Untitled1.ipynb\" target=\"_parent\"><img src=\"https://colab.research.google.com/assets/colab-badge.svg\" alt=\"Open In Colab\"/></a>"
      ]
    },
    {
      "cell_type": "code",
      "execution_count": null,
      "metadata": {
        "id": "2GIhf7WB6F6N"
      },
      "outputs": [],
      "source": [
        ""
      ]
    },
    {
      "cell_type": "markdown",
      "source": [
        "Name: _______Ashley Z Sangare_____________________\n",
        "Python for Data Analytics\n",
        "\n",
        "1. What is Python and why is it useful?\n",
        "Python is programming language creadted by Guido Van. Python can work on very large datasets with ease. It makes analyzing data from a few thousand rows to a few millions very easy.\n",
        "2. Are the following variable names allowed in python?\n",
        "a. 1_message no\n",
        "b. Greeting_message yes\n",
        "c. Message_1 yes\n",
        "d. First name no\n",
        "e. Full_name yes\n",
        "\n",
        "3. Create a variable that holds the string “hello there!”\n",
        "\n",
        "4. Create a variable for first name, last name and an email extension. Concatenating all three\n",
        "together to form an email address. For example: firstnamelastname@gmail.com\n",
        "\n",
        "5. Store someone you know name in a variable called name. Print their name in lower and\n",
        "uppercase using a method.\n",
        "\n",
        "6. Using a variable, ask your friend if they want to hang out on the 15 th of the month. For example,\n",
        "“Do you want to hang out on the 15 th of this month?” You should have to convert the number\n",
        "to a string."
      ],
      "metadata": {
        "id": "UyVffh8h6IYC"
      }
    },
    {
      "cell_type": "code",
      "source": [
        "message = \"hello there! \"\n",
        "print(message)"
      ],
      "metadata": {
        "colab": {
          "base_uri": "https://localhost:8080/"
        },
        "id": "Jcd238WJA8zn",
        "outputId": "7ba46ae5-2b5c-4908-bb47-2f41e03394a2"
      },
      "execution_count": null,
      "outputs": [
        {
          "output_type": "stream",
          "name": "stdout",
          "text": [
            "hello there! \n"
          ]
        }
      ]
    },
    {
      "cell_type": "code",
      "source": [
        "first_name = \"ashy\"\n",
        "last_name = \"zenab\"\n",
        "email = \"@gmail.com\"\n",
        "full_name = first_name + last_name + email\n",
        "print(full_name)"
      ],
      "metadata": {
        "colab": {
          "base_uri": "https://localhost:8080/"
        },
        "id": "vIJq-3k-Bugj",
        "outputId": "f8dd4e5c-e538-4aa9-cc8c-852953b6bde2"
      },
      "execution_count": null,
      "outputs": [
        {
          "output_type": "stream",
          "name": "stdout",
          "text": [
            "ashyzenab@gmail.com\n"
          ]
        }
      ]
    },
    {
      "cell_type": "code",
      "source": [
        "name = \"ashley\"\n",
        "print(name.upper())\n",
        "print(name.lower())"
      ],
      "metadata": {
        "colab": {
          "base_uri": "https://localhost:8080/"
        },
        "id": "QdqBhMdlC25l",
        "outputId": "b9b58f11-d50f-4818-83d8-928301c7e105"
      },
      "execution_count": null,
      "outputs": [
        {
          "output_type": "stream",
          "name": "stdout",
          "text": [
            "ASHLEY\n",
            "ashley\n"
          ]
        }
      ]
    },
    {
      "cell_type": "code",
      "source": [
        "string_5 = \"Do you want to hang out on the \"\n",
        "string_6 = 15\n",
        "string_7 = \"th of this month?\"\n",
        "print(string_5 + str(string_6) + string_7)"
      ],
      "metadata": {
        "id": "PX5WOBRxFUNj",
        "colab": {
          "base_uri": "https://localhost:8080/"
        },
        "outputId": "7a50ea6a-1d9d-4eb3-d04e-7253fa4ae05d"
      },
      "execution_count": 2,
      "outputs": [
        {
          "output_type": "stream",
          "name": "stdout",
          "text": [
            "Do you want to hang out on the 15th of this month?\n"
          ]
        }
      ]
    }
  ]
}