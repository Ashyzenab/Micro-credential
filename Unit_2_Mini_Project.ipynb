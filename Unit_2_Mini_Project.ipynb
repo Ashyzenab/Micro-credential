{
  "nbformat": 4,
  "nbformat_minor": 0,
  "metadata": {
    "colab": {
      "name": "Unit 2 Mini_Project",
      "provenance": [],
      "collapsed_sections": [],
      "include_colab_link": true
    },
    "kernelspec": {
      "name": "python3",
      "display_name": "Python 3"
    },
    "language_info": {
      "name": "python"
    }
  },
  "cells": [
    {
      "cell_type": "markdown",
      "metadata": {
        "id": "view-in-github",
        "colab_type": "text"
      },
      "source": [
        "<a href=\"https://colab.research.google.com/github/Ashyzenab/Micro-credential/blob/main/Unit_2_Mini_Project.ipynb\" target=\"_parent\"><img src=\"https://colab.research.google.com/assets/colab-badge.svg\" alt=\"Open In Colab\"/></a>"
      ]
    },
    {
      "cell_type": "code",
      "execution_count": null,
      "metadata": {
        "colab": {
          "base_uri": "https://localhost:8080/"
        },
        "id": "MS1OhDdzRwVU",
        "outputId": "d21b7c0b-e5da-435c-f0de-4f7eb6f407bf"
      },
      "outputs": [
        {
          "output_type": "stream",
          "name": "stdout",
          "text": [
            "Please Enter a Number: 44\n",
            "Yay! 44 is an even number\n",
            "and is also a multiple of 4\n",
            "Please Enter an Additional Number: 23\n",
            "44 is not divisible by  23\n"
          ]
        }
      ],
      "source": [
        "#Ask the user for a number. Depending on whether the number is even or odd, print out an\n",
        "#appropriate message to the user. Hint: how does an even / odd number react differently when divided by 2?\n",
        "\n",
        "#Bonus:\n",
        "\n",
        "#If the number is a multiple of 4, print out a different message.\n",
        "#Ask the user for two numbers: one number to check (call it num) and one number to divide by (check). \n",
        "#If check divides evenly into num, tell that to the user. If not, print a different appropriate message.\n",
        "#Write a custom function for finding whether the number is even or odd and call it in your main program code.\n",
        "\n",
        "num=int(input('Please Enter a Number:'+\" \"))\n",
        "if num %2==1:\n",
        "  print('Yay!',num,'is an odd number')\n",
        "elif num %2==0:\n",
        "  print('Yay!',num, 'is an even number')\n",
        "if num%4==0:\n",
        "  print('and is also a multiple of 4')\n",
        "check=int(input('Please Enter an Additional Number:' + ' '))\n",
        "if(num%check==0):\n",
        "    print(num,\"is completely divisible by \",check)\n",
        "else:\n",
        "   print(num,\"is not divisible by \",check)\n",
        "even_or_odd= num/check\n",
        "if even_or_odd%2==0:\n",
        "  print(even_or_odd,'is an even number')\n",
        "elif even_or_odd%2==1:\n",
        "  print(even_or_odd,'is an odd number')"
      ]
    },
    {
      "cell_type": "code",
      "source": [
        "num = int(input(\"Enter a number: \"))\n",
        "mod = num % 2\n",
        "if mod > 2:\n",
        "   print(\"You picked an odd number.\")\n",
        "else:\n",
        "  print(\"You picked an even number.\")\n",
        "if num % 4==0:\n",
        "  print(num,\"is a multiple of 4\")"
      ],
      "metadata": {
        "id": "VAiOEDEEUOid",
        "colab": {
          "base_uri": "https://localhost:8080/"
        },
        "outputId": "b97db8ad-a701-4dd2-e441-f4265c73df81"
      },
      "execution_count": null,
      "outputs": [
        {
          "output_type": "stream",
          "name": "stdout",
          "text": [
            "Enter a number: 4\n",
            "You picked an even number.\n",
            "4 is a multiple of 4\n"
          ]
        }
      ]
    },
    {
      "cell_type": "code",
      "source": [
        "number=int(input(\"Enter a number:\"))\n",
        "if(number%2==0): #if the number is divisible by 2 then it is even\n",
        "   print(number,\"is even\")\n",
        "else: #else it is odd\n",
        "    print(number,\"is odd\")\n",
        "if(number%4==0): #if the number is divisible by 4\n",
        "    print(number,\"is a multiple of 4\")\n",
        "else: #else it is not a multiple of 4\n",
        "   print(number,\"is not a multiple of 4\")\n",
        "\n",
        "num,check = map(int,input(\"Enter two numbers:\").split()) #to input two numbers in a same line say num and check\n",
        "if(num%check==0): #if num is completely divisible by check\n",
        "    print(num,\"is completely divisible by \",check)\n",
        "else:\n",
        "   print(num,\"is not divisible by \",check)"
      ],
      "metadata": {
        "colab": {
          "base_uri": "https://localhost:8080/"
        },
        "id": "xjbaibpCrS6d",
        "outputId": "1a4e32c1-fa9e-424d-9b00-3dba977c0876"
      },
      "execution_count": 1,
      "outputs": [
        {
          "output_type": "stream",
          "name": "stdout",
          "text": [
            "Enter a number:4\n",
            "4 is even\n",
            "4 is a multiple of 4\n",
            "Enter two numbers:4 2\n",
            "4 is completely divisible by  2\n"
          ]
        }
      ]
    },
    {
      "cell_type": "code",
      "source": [
        "Prompt=int(input('Please Enter a Number'+\" \"))\n",
        "if Prompt %2==1:\n",
        "  print('Yay! This is an odd number')\n",
        "elif Prompt %2==0:\n",
        "  print('Yay! This is an even number')\n",
        "if Prompt%4==0:\n",
        "  print('and this is a multiple of 4')"
      ],
      "metadata": {
        "colab": {
          "base_uri": "https://localhost:8080/"
        },
        "id": "6TEMXu9SrfSL",
        "outputId": "7bd3baeb-7795-4595-de08-6ba7f1f30c74"
      },
      "execution_count": null,
      "outputs": [
        {
          "output_type": "stream",
          "name": "stdout",
          "text": [
            "Please Enter a Number 5\n",
            "Yay! This is an odd number\n"
          ]
        }
      ]
    },
    {
      "cell_type": "code",
      "source": [
        "num= int(input('Please Enter a Number:'+ \" \"))\n",
        "check=int(input('Please Enter an Additional Number:' + ' '))\n",
        "#check the next few lines and make sure that it works for any combination of numbers\n",
        "d=num/check\n",
        "if d%2==0:\n",
        "  print(num,'is evenly divided by',check)\n",
        "elif d%3==0:\n",
        "  print(num,'is evenly divided by',check)\n",
        "else:\n",
        "  print(num,'is NOT evenly divided by',check)"
      ],
      "metadata": {
        "id": "v8mDQ5rWuDc9",
        "colab": {
          "base_uri": "https://localhost:8080/"
        },
        "outputId": "5f90c757-b2b9-4b63-e02a-e8ab383d9bda"
      },
      "execution_count": 2,
      "outputs": [
        {
          "output_type": "stream",
          "name": "stdout",
          "text": [
            "Please Enter a Number: 3\n",
            "Please Enter an Additional Number: 6\n",
            "3 is NOT evenly divided by 6\n"
          ]
        }
      ]
    }
  ]
}